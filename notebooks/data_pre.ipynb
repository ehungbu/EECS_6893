{
 "cells": [
  {
   "cell_type": "code",
   "execution_count": 1,
   "id": "ae952dea",
   "metadata": {},
   "outputs": [],
   "source": [
    "from pyspark.sql import SparkSession\n",
    "import matplotlib.pyplot as plt\n",
    "from pyspark import SparkConf,SparkContext\n",
    "%matplotlib inline\n",
    "import numpy as np\n",
    "import subprocess\n",
    "DATA_PATH = \"../mlb_data/games.csv\""
   ]
  },
  {
   "cell_type": "code",
   "execution_count": 2,
   "id": "1a5f5469",
   "metadata": {},
   "outputs": [
    {
     "name": "stderr",
     "output_type": "stream",
     "text": [
      "/home/whitechubbyguy/myenv/lib/python3.6/site-packages/pyspark/context.py:238: FutureWarning: Python 3.6 support is deprecated in Spark 3.2.\n",
      "  FutureWarning\n"
     ]
    }
   ],
   "source": [
    "#Read csv file to dataframe\n",
    "#=====your code here==========\n",
    "spark = SparkSession \\\n",
    "    .builder \\\n",
    "    .appName(\"Python Spark SQL basic example\") \\\n",
    "    .config(\"spark.some.config.option\", \"some-value\") \\\n",
    "    .getOrCreate()\n",
    "# income_df = spark.read.format(\"com.databricks.spark.csv\").options(header=\"false\", inferschema=\"true\").load(DATA_PATH)\n",
    "data = spark.read.options(header = \"false\", inferSchema = \"True\").csv(DATA_PATH)"
   ]
  },
  {
   "cell_type": "code",
   "execution_count": 3,
   "id": "4e22a6b5",
   "metadata": {},
   "outputs": [
    {
     "name": "stdout",
     "output_type": "stream",
     "text": [
      "root\n",
      " |-- Game: string (nullable = true)\n",
      " |-- away: string (nullable = true)\n",
      " |-- away-record: string (nullable = true)\n",
      " |-- awayaway-record: string (nullable = true)\n",
      " |-- home: string (nullable = true)\n",
      " |-- home-record: string (nullable = true)\n",
      " |-- homehome-record: string (nullable = true)\n",
      " |-- away-score: string (nullable = true)\n",
      " |-- home-score: string (nullable = true)\n",
      " |-- postseason info: string (nullable = true)\n",
      " |-- Walks Issued - Away: string (nullable = true)\n",
      " |-- Walks Issued - Home: string (nullable = true)\n",
      " |-- Stolen Bases - Away: string (nullable = true)\n",
      " |-- Stolen Bases - Home: string (nullable = true)\n",
      " |-- Strikeouts Thrown - Away: string (nullable = true)\n",
      " |-- Strikeouts Thrown - Home: string (nullable = true)\n",
      " |-- Total Bases - Away: string (nullable = true)\n",
      " |-- Total Bases - Home: string (nullable = true)\n",
      " |-- Stadium: string (nullable = true)\n",
      " |-- Date: string (nullable = true)\n",
      " |-- Location: string (nullable = true)\n",
      " |-- Odds: string (nullable = true)\n",
      " |-- O/U: string (nullable = true)\n",
      " |-- Attendance: string (nullable = true)\n",
      " |-- Capacity: string (nullable = true)\n",
      " |-- Duration: string (nullable = true)\n",
      " |-- Umpires: string (nullable = true)\n",
      " |-- WIN - Pitcher - Stats: string (nullable = true)\n",
      " |-- WIN - Pitcher - Id: string (nullable = true)\n",
      " |-- WIN - Pitcher - Name: string (nullable = true)\n",
      " |-- WIN - Pitcher - AbbrName: string (nullable = true)\n",
      " |-- WIN - Pitcher - Record: string (nullable = true)\n",
      " |-- LOSS - Pitcher - Stats: string (nullable = true)\n",
      " |-- LOSS - Pitcher - Id: string (nullable = true)\n",
      " |-- LOSS - Pitcher - Name: string (nullable = true)\n",
      " |-- LOSS - Pitcher - AbbrName: string (nullable = true)\n",
      " |-- LOSS - Pitcher - Record: string (nullable = true)\n",
      " |-- SAVE - Pitcher - Stats: string (nullable = true)\n",
      " |-- SAVE - Pitcher - Id: string (nullable = true)\n",
      " |-- SAVE - Pitcher - Name: string (nullable = true)\n",
      " |-- SAVE - Pitcher - AbbrName: string (nullable = true)\n",
      " |-- SAVE - Pitcher - Record: string (nullable = true)\n",
      " |-- Extra Innings: string (nullable = true)\n",
      "\n",
      "+---------+----+-----------+---------------+----+-----------+---------------+----------+----------+---------------+-------------------+-------------------+-------------------+-------------------+------------------------+------------------------+------------------+------------------+--------------------+-----------------+--------------------+----+----+----------+--------+--------+--------------------+---------------------+------------------+--------------------+------------------------+----------------------+----------------------+-------------------+---------------------+-------------------------+-----------------------+----------------------+-------------------+---------------------+-------------------------+-----------------------+-------------+\n",
      "|     Game|away|away-record|awayaway-record|home|home-record|homehome-record|away-score|home-score|postseason info|Walks Issued - Away|Walks Issued - Home|Stolen Bases - Away|Stolen Bases - Home|Strikeouts Thrown - Away|Strikeouts Thrown - Home|Total Bases - Away|Total Bases - Home|             Stadium|             Date|            Location|Odds| O/U|Attendance|Capacity|Duration|             Umpires|WIN - Pitcher - Stats|WIN - Pitcher - Id|WIN - Pitcher - Name|WIN - Pitcher - AbbrName|WIN - Pitcher - Record|LOSS - Pitcher - Stats|LOSS - Pitcher - Id|LOSS - Pitcher - Name|LOSS - Pitcher - AbbrName|LOSS - Pitcher - Record|SAVE - Pitcher - Stats|SAVE - Pitcher - Id|SAVE - Pitcher - Name|SAVE - Pitcher - AbbrName|SAVE - Pitcher - Record|Extra Innings|\n",
      "+---------+----+-----------+---------------+----+-----------+---------------+----------+----------+---------------+-------------------+-------------------+-------------------+-------------------+------------------------+------------------------+------------------+------------------+--------------------+-----------------+--------------------+----+----+----------+--------+--------+--------------------+---------------------+------------------+--------------------+------------------------+----------------------+----------------------+-------------------+---------------------+-------------------------+-----------------------+----------------------+-------------------+---------------------+-------------------------+-----------------------+-------------+\n",
      "|     Game|away|away-record|awayaway-record|home|home-record|homehome-record|away-score|home-score|postseason info|Walks Issued - Away|Walks Issued - Home|Stolen Bases - Away|Stolen Bases - Home|    Strikeouts Thrown...|    Strikeouts Thrown...|Total Bases - Away|Total Bases - Home|             Stadium|             Date|            Location|Odds| O/U|Attendance|Capacity|Duration|             Umpires| WIN - Pitcher - S...|WIN - Pitcher - Id|WIN - Pitcher - Name|    WIN - Pitcher - A...|  WIN - Pitcher - R...|  LOSS - Pitcher - ...|LOSS - Pitcher - Id| LOSS - Pitcher - ...|     LOSS - Pitcher - ...|   LOSS - Pitcher - ...|  SAVE - Pitcher - ...|SAVE - Pitcher - Id| SAVE - Pitcher - ...|     SAVE - Pitcher - ...|   SAVE - Pitcher - ...|Extra Innings|\n",
      "|360403123| STL|        0-1|       0-1 Away| PIT|        1-0|       1-0 Home|       1.0|       4.0|           null|                5.0|                5.0|                0.0|                0.0|                     5.0|                    14.0|               5.0|              13.0|PNC ParkCoverage:...|2016-04-03T17:00Z|Pittsburgh, Penns...|null|null|    39,500|  38,362|    3:02|Home Plate Umpire...| 6.0 IP, 0 ER, 10 ...|            6211.0|   Francisco Liriano|              F. Liriano|                 (1-0)|  6.0 IP, 3 ER, 3 K...|             5403.0|      Adam Wainwright|            A. Wainwright|                  (0-1)|                  null|               null|                 null|                     null|                   null|         null|\n",
      "+---------+----+-----------+---------------+----+-----------+---------------+----------+----------+---------------+-------------------+-------------------+-------------------+-------------------+------------------------+------------------------+------------------+------------------+--------------------+-----------------+--------------------+----+----+----------+--------+--------+--------------------+---------------------+------------------+--------------------+------------------------+----------------------+----------------------+-------------------+---------------------+-------------------------+-----------------------+----------------------+-------------------+---------------------+-------------------------+-----------------------+-------------+\n",
      "only showing top 2 rows\n",
      "\n"
     ]
    }
   ],
   "source": [
    "from functools import reduce\n",
    "#change the column names of dataframe\n",
    "df = data.withColumnRenamed('_c0','Game').withColumnRenamed('_c1','away').withColumnRenamed('_c2','away-record')\\\n",
    ".withColumnRenamed('_c3', 'awayaway-record').withColumnRenamed('_c4', 'home')\\\n",
    ".withColumnRenamed('_c5','home-record').withColumnRenamed('_c6', 'homehome-record').withColumnRenamed('_c7', 'away-score')\\\n",
    ".withColumnRenamed('_c8', 'home-score').withColumnRenamed('_c9', 'postseason info').withColumnRenamed('_c10', 'Walks Issued - Away')\\\n",
    ".withColumnRenamed('_c11', 'Walks Issued - Home').withColumnRenamed('_c12','Stolen Bases - Away')\\\n",
    ".withColumnRenamed('_c13', 'Stolen Bases - Home').withColumnRenamed('_c14', 'Strikeouts Thrown - Away').withColumnRenamed('_c15', 'Strikeouts Thrown - Home')\\\n",
    ".withColumnRenamed('_c16', 'Total Bases - Away').withColumnRenamed('_c17', 'Total Bases - Home').withColumnRenamed('_c18', 'Stadium')\\\n",
    ".withColumnRenamed('_c19', 'Date').withColumnRenamed('_c20', 'Location').withColumnRenamed('_c21', 'Odds')\\\n",
    ".withColumnRenamed('_c22', 'O/U').withColumnRenamed('_c23', 'Attendance').withColumnRenamed('_c24', 'Capacity')\\\n",
    ".withColumnRenamed('_c25', 'Duration').withColumnRenamed('_c26', 'Umpires').withColumnRenamed('_c27', 'WIN - Pitcher - Stats')\\\n",
    ".withColumnRenamed('_c28', 'WIN - Pitcher - Id').withColumnRenamed('_c29', 'WIN - Pitcher - Name').withColumnRenamed('_c30', 'WIN - Pitcher - AbbrName')\\\n",
    ".withColumnRenamed('_c31', 'WIN - Pitcher - Record').withColumnRenamed('_c32', 'LOSS - Pitcher - Stats').withColumnRenamed('_c33', 'LOSS - Pitcher - Id')\\\n",
    ".withColumnRenamed('_c34', 'LOSS - Pitcher - Name').withColumnRenamed('_c35', 'LOSS - Pitcher - AbbrName').withColumnRenamed('_c36', 'LOSS - Pitcher - Record')\\\n",
    ".withColumnRenamed('_c37', 'SAVE - Pitcher - Stats').withColumnRenamed('_c38', 'SAVE - Pitcher - Id').withColumnRenamed('_c39', 'SAVE - Pitcher - Name')\\\n",
    ".withColumnRenamed('_c40', 'SAVE - Pitcher - AbbrName').withColumnRenamed('_c41', 'SAVE - Pitcher - Record').withColumnRenamed('_c42', 'Extra Innings')\n",
    "df.printSchema()\n",
    "df.show(2)\n",
    "\n",
    "dataset = df"
   ]
  },
  {
   "cell_type": "code",
   "execution_count": 4,
   "id": "90918b68",
   "metadata": {},
   "outputs": [],
   "source": [
    "from pyspark.ml import Pipeline\n",
    "from pyspark.sql.functions import lit, col\n",
    "from pyspark.ml.feature import OneHotEncoder, StringIndexer, VectorAssembler\n",
    "from pyspark.sql.types import IntegerType,BooleanType,DateType,StringType"
   ]
  },
  {
   "cell_type": "code",
   "execution_count": 5,
   "id": "1cb88a1b",
   "metadata": {},
   "outputs": [
    {
     "name": "stdout",
     "output_type": "stream",
     "text": [
      "+----+-----+-----------+-----------+----------------+----------+-----------------+--------+--------+--------------+--------------+-------------------+-------------+----+\n",
      "|team|score|walksissued|stolenbases|strikeoutsthrown|totalbases|             date|opponent|op_score|op_walksissued|op_stolenbases|op_strikeoutsthrown|op_totalbases|home|\n",
      "+----+-----+-----------+-----------+----------------+----------+-----------------+--------+--------+--------------+--------------+-------------------+-------------+----+\n",
      "| STL|  1.0|        5.0|        0.0|             5.0|       5.0|2016-04-03T17:00Z|     PIT|     4.0|           5.0|           0.0|               14.0|         13.0|   0|\n",
      "| TOR|  5.0|        1.0|        0.0|             7.0|      11.0|2016-04-03T20:00Z|      TB|     3.0|           3.0|           0.0|               16.0|         11.0|   0|\n",
      "| NYM|  3.0|        2.0|        0.0|             3.0|       8.0|2016-04-04T00:30Z|      KC|     4.0|           6.0|           1.0|                9.0|          9.0|   0|\n",
      "|  SF| 12.0|        5.0|        1.0|            10.0|      30.0|2016-04-04T18:10Z|     MIL|     3.0|           5.0|           0.0|                3.0|         14.0|   0|\n",
      "| MIN|  2.0|        5.0|        0.0|            10.0|      10.0|2016-04-04T19:05Z|     BAL|     3.0|           0.0|           1.0|               10.0|         13.0|   0|\n",
      "| SEA|  2.0|        6.0|        0.0|            10.0|      10.0|2016-04-04T20:00Z|     TEX|     3.0|           3.0|           1.0|               11.0|          1.0|   0|\n",
      "| WSH|  4.0|        5.0|        1.0|            11.0|      15.0|2016-04-04T20:10Z|     ATL|     3.0|           5.0|           0.0|               11.0|         10.0|   0|\n",
      "| PHI|  2.0|        3.0|        0.0|             7.0|      10.0|2016-04-04T20:10Z|     CIN|     6.0|           1.0|           0.0|               10.0|          9.0|   0|\n",
      "| LAD| 15.0|        2.0|        0.0|            10.0|      26.0|2016-04-04T23:00Z|      SD|     0.0|           4.0|           0.0|               10.0|          5.0|   0|\n",
      "| TOR|  5.0|        4.0|        0.0|             9.0|      17.0|2016-04-04T23:10Z|      TB|     3.0|           2.0|           1.0|                9.0|         12.0|   0|\n",
      "| COL| 10.0|        3.0|        1.0|            13.0|      31.0|2016-04-05T01:40Z|     ARI|     5.0|           4.0|           0.0|                7.0|         17.0|   0|\n",
      "| CHC|  9.0|        1.0|        0.0|             7.0|      17.0|2016-04-05T02:00Z|     LAA|     0.0|           7.0|           0.0|               12.0|          4.0|   0|\n",
      "| CHW|  4.0|        3.0|        0.0|            10.0|      10.0|2016-04-05T02:05Z|     OAK|     3.0|           1.0|           0.0|                6.0|          9.0|   0|\n",
      "| HOU|  5.0|        4.0|        3.0|             8.0|      11.0|2016-04-05T17:00Z|     NYY|     3.0|           3.0|           1.0|               10.0|          8.0|   0|\n",
      "| BOS|  6.0|        3.0|        0.0|            15.0|      18.0|2016-04-05T17:10Z|     CLE|     2.0|           6.0|           0.0|                8.0|          5.0|   0|\n",
      "| NYM|  2.0|        1.0|        2.0|            12.0|       9.0|2016-04-05T20:15Z|      KC|     0.0|           5.0|           1.0|                9.0|          6.0|   0|\n",
      "| STL|  5.0|        2.0|        0.0|            12.0|      15.0|2016-04-05T23:05Z|     PIT|     6.0|           3.0|           0.0|               13.0|         15.0|   0|\n",
      "| DET|  8.0|        3.0|        0.0|            10.0|      23.0|2016-04-05T23:10Z|     MIA|     7.0|           4.0|           0.0|                6.0|         19.0|   0|\n",
      "| TOR|  2.0|        0.0|        2.0|             9.0|      11.0|2016-04-05T23:10Z|      TB|     3.0|           4.0|           0.0|               11.0|         14.0|   0|\n",
      "| SEA| 10.0|        5.0|        0.0|            11.0|      26.0|2016-04-06T00:05Z|     TEX|     2.0|           4.0|           1.0|                4.0|          9.0|   0|\n",
      "+----+-----+-----------+-----------+----------------+----------+-----------------+--------+--------+--------------+--------------+-------------------+-------------+----+\n",
      "only showing top 20 rows\n",
      "\n"
     ]
    },
    {
     "data": {
      "text/plain": [
       "13429"
      ]
     },
     "execution_count": 5,
     "metadata": {},
     "output_type": "execute_result"
    }
   ],
   "source": [
    "# filter data for away\n",
    "mlb_teams = [\"PIT\", \"TB\", \"KC\", 'MIL', \"BAL\", \"TEX\", 'ATL', 'CIN', 'SD', 'ARI', 'LAA', 'OAK', 'NYY', 'SEA', 'WSH', \\\n",
    "             'TOR', 'NYM', 'SF', 'MIN', 'PHI', 'HOU', 'CHW', 'BOS', 'STL', 'DET', 'LAD', 'COL', 'CHC', 'CLE', 'MIA']\n",
    "rdd = df.rdd.map(lambda x: (x[1], x[7], x[10], x[12], x[14], x[16], x[19], x[4], x[8], x[11], x[13], x[15], x[17]))\n",
    "df2=rdd.toDF([\"team\",\"score\",\"walksissued\",\"stolenbases\",\"strikeoutsthrown\", \"totalbases\", 'date', 'opponent', 'op_score',\"op_walksissued\",\"op_stolenbases\",\"op_strikeoutsthrown\", \"op_totalbases\"])\n",
    "\n",
    "df2 = df2.na.drop().filter(df2.team.isin(mlb_teams)==True)\n",
    "df2 = df2.withColumn(\"home\", lit(0))\n",
    "df2.show()\n",
    "df2.count()"
   ]
  },
  {
   "cell_type": "code",
   "execution_count": 8,
   "id": "1bcf3e73",
   "metadata": {},
   "outputs": [
    {
     "name": "stdout",
     "output_type": "stream",
     "text": [
      "root\n",
      " |-- team: string (nullable = true)\n",
      " |-- score: integer (nullable = true)\n",
      " |-- walksissued: integer (nullable = true)\n",
      " |-- stolenbases: integer (nullable = true)\n",
      " |-- strikeoutsthrown: integer (nullable = true)\n",
      " |-- totalbases: integer (nullable = true)\n",
      " |-- date: date (nullable = true)\n",
      " |-- opponent: string (nullable = true)\n",
      " |-- op_score: integer (nullable = true)\n",
      " |-- op_walksissued: integer (nullable = true)\n",
      " |-- op_stolenbases: integer (nullable = true)\n",
      " |-- op_strikeoutsthrown: integer (nullable = true)\n",
      " |-- op_totalbases: integer (nullable = true)\n",
      " |-- home: integer (nullable = false)\n",
      "\n",
      "+----+-----+-----------+-----------+----------------+----------+----------+--------+--------+--------------+--------------+-------------------+-------------+----+\n",
      "|team|score|walksissued|stolenbases|strikeoutsthrown|totalbases|      date|opponent|op_score|op_walksissued|op_stolenbases|op_strikeoutsthrown|op_totalbases|home|\n",
      "+----+-----+-----------+-----------+----------------+----------+----------+--------+--------+--------------+--------------+-------------------+-------------+----+\n",
      "| STL|    1|          5|          0|               5|         5|2016-04-03|     PIT|       4|             5|             0|                 14|           13|   0|\n",
      "| TOR|    5|          1|          0|               7|        11|2016-04-03|      TB|       3|             3|             0|                 16|           11|   0|\n",
      "| NYM|    3|          2|          0|               3|         8|2016-04-04|      KC|       4|             6|             1|                  9|            9|   0|\n",
      "|  SF|   12|          5|          1|              10|        30|2016-04-04|     MIL|       3|             5|             0|                  3|           14|   0|\n",
      "| MIN|    2|          5|          0|              10|        10|2016-04-04|     BAL|       3|             0|             1|                 10|           13|   0|\n",
      "| SEA|    2|          6|          0|              10|        10|2016-04-04|     TEX|       3|             3|             1|                 11|            1|   0|\n",
      "| WSH|    4|          5|          1|              11|        15|2016-04-04|     ATL|       3|             5|             0|                 11|           10|   0|\n",
      "| PHI|    2|          3|          0|               7|        10|2016-04-04|     CIN|       6|             1|             0|                 10|            9|   0|\n",
      "| LAD|   15|          2|          0|              10|        26|2016-04-04|      SD|       0|             4|             0|                 10|            5|   0|\n",
      "| TOR|    5|          4|          0|               9|        17|2016-04-04|      TB|       3|             2|             1|                  9|           12|   0|\n",
      "+----+-----+-----------+-----------+----------------+----------+----------+--------+--------+--------------+--------------+-------------------+-------------+----+\n",
      "only showing top 10 rows\n",
      "\n",
      "13429\n"
     ]
    }
   ],
   "source": [
    "df_final = df2.withColumn(\"team\",col(\"team\").cast(StringType())) \\\n",
    "    .withColumn(\"score\",col(\"score\").cast(IntegerType())) \\\n",
    "    .withColumn(\"walksissued\",col(\"walksissued\").cast(IntegerType())) \\\n",
    "    .withColumn(\"stolenbases\",col(\"stolenbases\").cast(IntegerType())) \\\n",
    "    .withColumn(\"strikeoutsthrown\",col(\"strikeoutsthrown\").cast(IntegerType())) \\\n",
    "    .withColumn(\"totalbases\",col(\"totalbases\").cast(IntegerType())) \\\n",
    "    .withColumn(\"home\",col(\"home\").cast(IntegerType())) \\\n",
    "    .withColumn(\"op_score\",col(\"op_score\").cast(IntegerType())) \\\n",
    "    .withColumn(\"op_walksissued\",col(\"op_walksissued\").cast(IntegerType())) \\\n",
    "    .withColumn(\"op_stolenbases\",col(\"op_stolenbases\").cast(IntegerType())) \\\n",
    "    .withColumn(\"op_strikeoutsthrown\",col(\"op_strikeoutsthrown\").cast(IntegerType())) \\\n",
    "    .withColumn(\"op_totalbases\",col(\"op_totalbases\").cast(IntegerType())) \\\n",
    "    .withColumn(\"opponent\",col(\"opponent\").cast(StringType())) \\\n",
    "    .withColumn(\"date\",col(\"date\").cast(DateType()))\n",
    "df_final.printSchema()\n",
    "df_final.show(10)\n",
    "print(df_final.count())\n",
    "df_final.write.option(\"header\",True).csv(\"../data_processed/pyspark_data.csv\")"
   ]
  },
  {
   "cell_type": "code",
   "execution_count": 9,
   "id": "fa6eb342",
   "metadata": {},
   "outputs": [
    {
     "data": {
      "text/plain": [
       "b''"
      ]
     },
     "execution_count": 9,
     "metadata": {},
     "output_type": "execute_result"
    }
   ],
   "source": [
    "from google.cloud import bigquery\n",
    "bucket = \"6893_data_cc4805\"\n",
    "output_directory_pyspark = 'gs://{}/hadoop/tmp/bigquery/pyspark_output/pyspark'.format(bucket)\n",
    "lsCommand = ['gsutil', 'cp', '../data_processed/pyspark_data.csv', output_directory_pyspark]\n",
    "subprocess.check_output(lsCommand)"
   ]
  },
  {
   "cell_type": "code",
   "execution_count": 22,
   "id": "7ebe48f0",
   "metadata": {},
   "outputs": [
    {
     "name": "stdout",
     "output_type": "stream",
     "text": [
      "Loaded 13429 rows.\n"
     ]
    }
   ],
   "source": [
    "client = bigquery.Client()\n",
    "table_id = \"pyspark_dataset.pyspark\"\n",
    "# TODO(developer): Set table_id to the ID of the table to create.\n",
    "# table_id = \"your-project.your_dataset.your_table_name\"\n",
    "job_config = bigquery.LoadJobConfig(\n",
    "    schema=[\n",
    "        bigquery.SchemaField(\"team\", \"STRING\"),\n",
    "        bigquery.SchemaField(\"score\", \"INTEGER\"),\n",
    "        bigquery.SchemaField(\"walksissued\", \"INTEGER\"),\n",
    "        bigquery.SchemaField(\"stolenbases\", \"INTEGER\"),\n",
    "        bigquery.SchemaField(\"strikeoutsthrown\", \"INTEGER\"),\n",
    "        bigquery.SchemaField(\"totalbases\", \"INTEGER\"),\n",
    "        bigquery.SchemaField(\"date\", \"DATE\"),\n",
    "        bigquery.SchemaField(\"opponent\", \"STRING\"),\n",
    "        bigquery.SchemaField(\"op_score\", \"INTEGER\"),\n",
    "        bigquery.SchemaField(\"op_walksissued\", \"INTEGER\"),\n",
    "        bigquery.SchemaField(\"op_stolenbases\", \"STRING\"),\n",
    "        bigquery.SchemaField(\"op_strikeoutsthrown\", \"INTEGER\"),\n",
    "        bigquery.SchemaField(\"op_totalbases\", \"INTEGER\"),\n",
    "        bigquery.SchemaField(\"home\", \"INTEGER\"),\n",
    "    ],\n",
    "    skip_leading_rows=1,\n",
    "    # The source format defaults to CSV, so the line below is optional.\n",
    "    source_format=bigquery.SourceFormat.CSV,\n",
    ")\n",
    "uri = 'gs://{}/hadoop/tmp/bigquery/pyspark_output/pyspark'.format(bucket)\n",
    "\n",
    "load_job = client.load_table_from_uri(\n",
    "    uri, table_id, job_config=job_config\n",
    ")  # Make an API request.\n",
    "\n",
    "load_job.result()  # Waits for the job to complete.\n",
    "\n",
    "destination_table = client.get_table(table_id)  # Make an API request.\n",
    "print(\"Loaded {} rows.\".format(destination_table.num_rows))"
   ]
  },
  {
   "cell_type": "code",
   "execution_count": null,
   "id": "79fb0048",
   "metadata": {},
   "outputs": [],
   "source": []
  }
 ],
 "metadata": {
  "kernelspec": {
   "display_name": "Python 3",
   "language": "python",
   "name": "python3"
  },
  "language_info": {
   "codemirror_mode": {
    "name": "ipython",
    "version": 3
   },
   "file_extension": ".py",
   "mimetype": "text/x-python",
   "name": "python",
   "nbconvert_exporter": "python",
   "pygments_lexer": "ipython3",
   "version": "3.8.8"
  }
 },
 "nbformat": 4,
 "nbformat_minor": 5
}
