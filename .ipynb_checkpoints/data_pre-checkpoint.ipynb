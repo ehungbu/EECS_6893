{
 "cells": [
  {
   "cell_type": "code",
   "execution_count": 1,
   "id": "ae952dea",
   "metadata": {},
   "outputs": [],
   "source": [
    "from pyspark.sql import SparkSession\n",
    "import matplotlib.pyplot as plt\n",
    "%matplotlib inline\n",
    "import numpy as np\n",
    "DATA_PATH = \"games.csv\""
   ]
  },
  {
   "cell_type": "code",
   "execution_count": 2,
   "id": "1a5f5469",
   "metadata": {},
   "outputs": [
    {
     "name": "stderr",
     "output_type": "stream",
     "text": [
      "/home/whitechubbyguy/myenv/lib/python3.6/site-packages/pyspark/context.py:238: FutureWarning: Python 3.6 support is deprecated in Spark 3.2.\n",
      "  FutureWarning\n"
     ]
    }
   ],
   "source": [
    "#Read csv file to dataframe\n",
    "#=====your code here==========\n",
    "spark = SparkSession \\\n",
    "    .builder \\\n",
    "    .appName(\"Python Spark SQL basic example\") \\\n",
    "    .config(\"spark.some.config.option\", \"some-value\") \\\n",
    "    .getOrCreate()\n",
    "# income_df = spark.read.format(\"com.databricks.spark.csv\").options(header=\"false\", inferschema=\"true\").load(DATA_PATH)\n",
    "data = spark.read.options(header = \"false\", inferSchema = \"True\").csv(DATA_PATH)"
   ]
  },
  {
   "cell_type": "code",
   "execution_count": 3,
   "id": "4e22a6b5",
   "metadata": {},
   "outputs": [
    {
     "name": "stdout",
     "output_type": "stream",
     "text": [
      "root\n",
      " |-- Game: string (nullable = true)\n",
      " |-- away: string (nullable = true)\n",
      " |-- away-record: string (nullable = true)\n",
      " |-- awayaway-record: string (nullable = true)\n",
      " |-- home: string (nullable = true)\n",
      " |-- home-record: string (nullable = true)\n",
      " |-- homehome-record: string (nullable = true)\n",
      " |-- away-score: string (nullable = true)\n",
      " |-- home-score: string (nullable = true)\n",
      " |-- postseason info: string (nullable = true)\n",
      " |-- Walks Issued - Away: string (nullable = true)\n",
      " |-- Walks Issued - Home: string (nullable = true)\n",
      " |-- Stolen Bases - Away: string (nullable = true)\n",
      " |-- Stolen Bases - Home: string (nullable = true)\n",
      " |-- Strikeouts Thrown - Away: string (nullable = true)\n",
      " |-- Strikeouts Thrown - Home: string (nullable = true)\n",
      " |-- Total Bases - Away: string (nullable = true)\n",
      " |-- Total Bases - Home: string (nullable = true)\n",
      " |-- Stadium: string (nullable = true)\n",
      " |-- Date: string (nullable = true)\n",
      " |-- Location: string (nullable = true)\n",
      " |-- Odds: string (nullable = true)\n",
      " |-- O/U: string (nullable = true)\n",
      " |-- Attendance: string (nullable = true)\n",
      " |-- Capacity: string (nullable = true)\n",
      " |-- Duration: string (nullable = true)\n",
      " |-- Umpires: string (nullable = true)\n",
      " |-- WIN - Pitcher - Stats: string (nullable = true)\n",
      " |-- WIN - Pitcher - Id: string (nullable = true)\n",
      " |-- WIN - Pitcher - Name: string (nullable = true)\n",
      " |-- WIN - Pitcher - AbbrName: string (nullable = true)\n",
      " |-- WIN - Pitcher - Record: string (nullable = true)\n",
      " |-- LOSS - Pitcher - Stats: string (nullable = true)\n",
      " |-- LOSS - Pitcher - Id: string (nullable = true)\n",
      " |-- LOSS - Pitcher - Name: string (nullable = true)\n",
      " |-- LOSS - Pitcher - AbbrName: string (nullable = true)\n",
      " |-- LOSS - Pitcher - Record: string (nullable = true)\n",
      " |-- SAVE - Pitcher - Stats: string (nullable = true)\n",
      " |-- SAVE - Pitcher - Id: string (nullable = true)\n",
      " |-- SAVE - Pitcher - Name: string (nullable = true)\n",
      " |-- SAVE - Pitcher - AbbrName: string (nullable = true)\n",
      " |-- SAVE - Pitcher - Record: string (nullable = true)\n",
      " |-- Extra Innings: string (nullable = true)\n",
      "\n",
      "+---------+----+-----------+---------------+----+-----------+---------------+----------+----------+---------------+-------------------+-------------------+-------------------+-------------------+------------------------+------------------------+------------------+------------------+--------------------+-----------------+--------------------+----+----+----------+--------+--------+--------------------+---------------------+------------------+--------------------+------------------------+----------------------+----------------------+-------------------+---------------------+-------------------------+-----------------------+----------------------+-------------------+---------------------+-------------------------+-----------------------+-------------+\n",
      "|     Game|away|away-record|awayaway-record|home|home-record|homehome-record|away-score|home-score|postseason info|Walks Issued - Away|Walks Issued - Home|Stolen Bases - Away|Stolen Bases - Home|Strikeouts Thrown - Away|Strikeouts Thrown - Home|Total Bases - Away|Total Bases - Home|             Stadium|             Date|            Location|Odds| O/U|Attendance|Capacity|Duration|             Umpires|WIN - Pitcher - Stats|WIN - Pitcher - Id|WIN - Pitcher - Name|WIN - Pitcher - AbbrName|WIN - Pitcher - Record|LOSS - Pitcher - Stats|LOSS - Pitcher - Id|LOSS - Pitcher - Name|LOSS - Pitcher - AbbrName|LOSS - Pitcher - Record|SAVE - Pitcher - Stats|SAVE - Pitcher - Id|SAVE - Pitcher - Name|SAVE - Pitcher - AbbrName|SAVE - Pitcher - Record|Extra Innings|\n",
      "+---------+----+-----------+---------------+----+-----------+---------------+----------+----------+---------------+-------------------+-------------------+-------------------+-------------------+------------------------+------------------------+------------------+------------------+--------------------+-----------------+--------------------+----+----+----------+--------+--------+--------------------+---------------------+------------------+--------------------+------------------------+----------------------+----------------------+-------------------+---------------------+-------------------------+-----------------------+----------------------+-------------------+---------------------+-------------------------+-----------------------+-------------+\n",
      "|     Game|away|away-record|awayaway-record|home|home-record|homehome-record|away-score|home-score|postseason info|Walks Issued - Away|Walks Issued - Home|Stolen Bases - Away|Stolen Bases - Home|    Strikeouts Thrown...|    Strikeouts Thrown...|Total Bases - Away|Total Bases - Home|             Stadium|             Date|            Location|Odds| O/U|Attendance|Capacity|Duration|             Umpires| WIN - Pitcher - S...|WIN - Pitcher - Id|WIN - Pitcher - Name|    WIN - Pitcher - A...|  WIN - Pitcher - R...|  LOSS - Pitcher - ...|LOSS - Pitcher - Id| LOSS - Pitcher - ...|     LOSS - Pitcher - ...|   LOSS - Pitcher - ...|  SAVE - Pitcher - ...|SAVE - Pitcher - Id| SAVE - Pitcher - ...|     SAVE - Pitcher - ...|   SAVE - Pitcher - ...|Extra Innings|\n",
      "|360403123| STL|        0-1|       0-1 Away| PIT|        1-0|       1-0 Home|       1.0|       4.0|           null|                5.0|                5.0|                0.0|                0.0|                     5.0|                    14.0|               5.0|              13.0|PNC ParkCoverage:...|2016-04-03T17:00Z|Pittsburgh, Penns...|null|null|    39,500|  38,362|    3:02|Home Plate Umpire...| 6.0 IP, 0 ER, 10 ...|            6211.0|   Francisco Liriano|              F. Liriano|                 (1-0)|  6.0 IP, 3 ER, 3 K...|             5403.0|      Adam Wainwright|            A. Wainwright|                  (0-1)|                  null|               null|                 null|                     null|                   null|         null|\n",
      "+---------+----+-----------+---------------+----+-----------+---------------+----------+----------+---------------+-------------------+-------------------+-------------------+-------------------+------------------------+------------------------+------------------+------------------+--------------------+-----------------+--------------------+----+----+----------+--------+--------+--------------------+---------------------+------------------+--------------------+------------------------+----------------------+----------------------+-------------------+---------------------+-------------------------+-----------------------+----------------------+-------------------+---------------------+-------------------------+-----------------------+-------------+\n",
      "only showing top 2 rows\n",
      "\n"
     ]
    }
   ],
   "source": [
    "from functools import reduce\n",
    "#change the column names of dataframe\n",
    "df = data.withColumnRenamed('_c0','Game').withColumnRenamed('_c1','away').withColumnRenamed('_c2','away-record')\\\n",
    ".withColumnRenamed('_c3', 'awayaway-record').withColumnRenamed('_c4', 'home')\\\n",
    ".withColumnRenamed('_c5','home-record').withColumnRenamed('_c6', 'homehome-record').withColumnRenamed('_c7', 'away-score')\\\n",
    ".withColumnRenamed('_c8', 'home-score').withColumnRenamed('_c9', 'postseason info').withColumnRenamed('_c10', 'Walks Issued - Away')\\\n",
    ".withColumnRenamed('_c11', 'Walks Issued - Home').withColumnRenamed('_c12','Stolen Bases - Away')\\\n",
    ".withColumnRenamed('_c13', 'Stolen Bases - Home').withColumnRenamed('_c14', 'Strikeouts Thrown - Away').withColumnRenamed('_c15', 'Strikeouts Thrown - Home')\\\n",
    ".withColumnRenamed('_c16', 'Total Bases - Away').withColumnRenamed('_c17', 'Total Bases - Home').withColumnRenamed('_c18', 'Stadium')\\\n",
    ".withColumnRenamed('_c19', 'Date').withColumnRenamed('_c20', 'Location').withColumnRenamed('_c21', 'Odds')\\\n",
    ".withColumnRenamed('_c22', 'O/U').withColumnRenamed('_c23', 'Attendance').withColumnRenamed('_c24', 'Capacity')\\\n",
    ".withColumnRenamed('_c25', 'Duration').withColumnRenamed('_c26', 'Umpires').withColumnRenamed('_c27', 'WIN - Pitcher - Stats')\\\n",
    ".withColumnRenamed('_c28', 'WIN - Pitcher - Id').withColumnRenamed('_c29', 'WIN - Pitcher - Name').withColumnRenamed('_c30', 'WIN - Pitcher - AbbrName')\\\n",
    ".withColumnRenamed('_c31', 'WIN - Pitcher - Record').withColumnRenamed('_c32', 'LOSS - Pitcher - Stats').withColumnRenamed('_c33', 'LOSS - Pitcher - Id')\\\n",
    ".withColumnRenamed('_c34', 'LOSS - Pitcher - Name').withColumnRenamed('_c35', 'LOSS - Pitcher - AbbrName').withColumnRenamed('_c36', 'LOSS - Pitcher - Record')\\\n",
    ".withColumnRenamed('_c37', 'SAVE - Pitcher - Stats').withColumnRenamed('_c38', 'SAVE - Pitcher - Id').withColumnRenamed('_c39', 'SAVE - Pitcher - Name')\\\n",
    ".withColumnRenamed('_c40', 'SAVE - Pitcher - AbbrName').withColumnRenamed('_c41', 'SAVE - Pitcher - Record').withColumnRenamed('_c42', 'Extra Innings')\n",
    "df.printSchema()\n",
    "df.show(2)\n",
    "\n",
    "dataset = df"
   ]
  },
  {
   "cell_type": "code",
   "execution_count": 4,
   "id": "90918b68",
   "metadata": {},
   "outputs": [],
   "source": [
    "from pyspark.ml import Pipeline\n",
    "from pyspark.sql.functions import lit, col\n",
    "from pyspark.ml.feature import OneHotEncoder, StringIndexer, VectorAssembler\n",
    "from pyspark.sql.types import IntegerType,BooleanType,DateType,StringType"
   ]
  },
  {
   "cell_type": "code",
   "execution_count": 5,
   "id": "1cb88a1b",
   "metadata": {},
   "outputs": [
    {
     "name": "stdout",
     "output_type": "stream",
     "text": [
      "+----+-----+-----------+-----------+----------------+----------+-----------------+----+\n",
      "|team|score|walksissued|stolenbases|strikeoutsthrown|totalbases|             date|home|\n",
      "+----+-----+-----------+-----------+----------------+----------+-----------------+----+\n",
      "| STL|  1.0|        5.0|        0.0|             5.0|       5.0|2016-04-03T17:00Z|   0|\n",
      "| TOR|  5.0|        1.0|        0.0|             7.0|      11.0|2016-04-03T20:00Z|   0|\n",
      "| NYM|  3.0|        2.0|        0.0|             3.0|       8.0|2016-04-04T00:30Z|   0|\n",
      "|  SF| 12.0|        5.0|        1.0|            10.0|      30.0|2016-04-04T18:10Z|   0|\n",
      "| MIN|  2.0|        5.0|        0.0|            10.0|      10.0|2016-04-04T19:05Z|   0|\n",
      "| SEA|  2.0|        6.0|        0.0|            10.0|      10.0|2016-04-04T20:00Z|   0|\n",
      "| WSH|  4.0|        5.0|        1.0|            11.0|      15.0|2016-04-04T20:10Z|   0|\n",
      "| PHI|  2.0|        3.0|        0.0|             7.0|      10.0|2016-04-04T20:10Z|   0|\n",
      "| LAD| 15.0|        2.0|        0.0|            10.0|      26.0|2016-04-04T23:00Z|   0|\n",
      "| TOR|  5.0|        4.0|        0.0|             9.0|      17.0|2016-04-04T23:10Z|   0|\n",
      "| COL| 10.0|        3.0|        1.0|            13.0|      31.0|2016-04-05T01:40Z|   0|\n",
      "| CHC|  9.0|        1.0|        0.0|             7.0|      17.0|2016-04-05T02:00Z|   0|\n",
      "| CHW|  4.0|        3.0|        0.0|            10.0|      10.0|2016-04-05T02:05Z|   0|\n",
      "| HOU|  5.0|        4.0|        3.0|             8.0|      11.0|2016-04-05T17:00Z|   0|\n",
      "| BOS|  6.0|        3.0|        0.0|            15.0|      18.0|2016-04-05T17:10Z|   0|\n",
      "| NYM|  2.0|        1.0|        2.0|            12.0|       9.0|2016-04-05T20:15Z|   0|\n",
      "| STL|  5.0|        2.0|        0.0|            12.0|      15.0|2016-04-05T23:05Z|   0|\n",
      "| DET|  8.0|        3.0|        0.0|            10.0|      23.0|2016-04-05T23:10Z|   0|\n",
      "| TOR|  2.0|        0.0|        2.0|             9.0|      11.0|2016-04-05T23:10Z|   0|\n",
      "| SEA| 10.0|        5.0|        0.0|            11.0|      26.0|2016-04-06T00:05Z|   0|\n",
      "+----+-----+-----------+-----------+----------------+----------+-----------------+----+\n",
      "only showing top 20 rows\n",
      "\n"
     ]
    },
    {
     "data": {
      "text/plain": [
       "12986"
      ]
     },
     "execution_count": 5,
     "metadata": {},
     "output_type": "execute_result"
    }
   ],
   "source": [
    "# filter data for away\n",
    "mlb_teams = [\"PIT\", \"TB\", \"KC\", 'MIL', \"BAL\", \"TEX\", 'ATL', 'CIN', 'SD', 'ARI', 'LAA', 'OAK', 'NYY', 'SEA', 'WSH', \\\n",
    "             'TOR', 'NYM', 'SF', 'MIN', 'PHI', 'HOU', 'CHW', 'BOS', 'STL', 'DET', 'LAD', 'COL', 'CHC', 'CLE', 'FLA']\n",
    "rdd = df.rdd.map(lambda x: (x[1], x[7], x[10], x[12], x[14], x[16], x[19]))\n",
    "df2=rdd.toDF([\"team\",\"score\",\"walksissued\",\"stolenbases\",\"strikeoutsthrown\", \"totalbases\", 'date'])\n",
    "\n",
    "df2 = df2.na.drop().filter(df2.team.isin(mlb_teams)==True)\n",
    "df2 = df2.withColumn(\"home\", lit(0))\n",
    "df2.show()\n",
    "df2.count()"
   ]
  },
  {
   "cell_type": "code",
   "execution_count": 6,
   "id": "4fcc2d54",
   "metadata": {},
   "outputs": [
    {
     "name": "stdout",
     "output_type": "stream",
     "text": [
      "+----+-----+-----------+-----------+----------------+----------+-----------------+----+\n",
      "|team|score|walksissued|stolenbases|strikeoutsthrown|totalbases|             date|home|\n",
      "+----+-----+-----------+-----------+----------------+----------+-----------------+----+\n",
      "| PIT|  4.0|        5.0|        0.0|            14.0|      13.0|2016-04-03T17:00Z|   1|\n",
      "|  TB|  3.0|        3.0|        0.0|            16.0|      11.0|2016-04-03T20:00Z|   1|\n",
      "|  KC|  4.0|        6.0|        1.0|             9.0|       9.0|2016-04-04T00:30Z|   1|\n",
      "| MIL|  3.0|        5.0|        0.0|             3.0|      14.0|2016-04-04T18:10Z|   1|\n",
      "| BAL|  3.0|        0.0|        1.0|            10.0|      13.0|2016-04-04T19:05Z|   1|\n",
      "| TEX|  3.0|        3.0|        1.0|            11.0|       1.0|2016-04-04T20:00Z|   1|\n",
      "| ATL|  3.0|        5.0|        0.0|            11.0|      10.0|2016-04-04T20:10Z|   1|\n",
      "| CIN|  6.0|        1.0|        0.0|            10.0|       9.0|2016-04-04T20:10Z|   1|\n",
      "|  SD|  0.0|        4.0|        0.0|            10.0|       5.0|2016-04-04T23:00Z|   1|\n",
      "|  TB|  3.0|        2.0|        1.0|             9.0|      12.0|2016-04-04T23:10Z|   1|\n",
      "| ARI|  5.0|        4.0|        0.0|             7.0|      17.0|2016-04-05T01:40Z|   1|\n",
      "| LAA|  0.0|        7.0|        0.0|            12.0|       4.0|2016-04-05T02:00Z|   1|\n",
      "| OAK|  3.0|        1.0|        0.0|             6.0|       9.0|2016-04-05T02:05Z|   1|\n",
      "| NYY|  3.0|        3.0|        1.0|            10.0|       8.0|2016-04-05T17:00Z|   1|\n",
      "| CLE|  2.0|        6.0|        0.0|             8.0|       5.0|2016-04-05T17:10Z|   1|\n",
      "|  KC|  0.0|        5.0|        1.0|             9.0|       6.0|2016-04-05T20:15Z|   1|\n",
      "| PIT|  6.0|        3.0|        0.0|            13.0|      15.0|2016-04-05T23:05Z|   1|\n",
      "|  TB|  3.0|        4.0|        0.0|            11.0|      14.0|2016-04-05T23:10Z|   1|\n",
      "| TEX|  2.0|        4.0|        1.0|             4.0|       9.0|2016-04-06T00:05Z|   1|\n",
      "| MIL|  1.0|        2.0|        0.0|             5.0|       8.0|2016-04-06T00:10Z|   1|\n",
      "+----+-----+-----------+-----------+----------------+----------+-----------------+----+\n",
      "only showing top 20 rows\n",
      "\n"
     ]
    }
   ],
   "source": [
    "rdd2 = df.rdd.map(lambda x: (x[4], x[8], x[11], x[13], x[15], x[17], x[19]))\n",
    "df3=rdd2.toDF([\"team\",\"score\",\"walksissued\",\"stolenbases\",\"strikeoutsthrown\", \"totalbases\", 'date'])\n",
    "df3 = df3.na.drop().filter(df3.team.isin(mlb_teams)==True)\n",
    "df3 = df3.withColumn(\"home\", lit(1))\n",
    "df3.show()"
   ]
  },
  {
   "cell_type": "code",
   "execution_count": 7,
   "id": "68b17acb",
   "metadata": {},
   "outputs": [
    {
     "name": "stdout",
     "output_type": "stream",
     "text": [
      "+----+-----+-----------+-----------+----------------+----------+-----------------+----+\n",
      "|team|score|walksissued|stolenbases|strikeoutsthrown|totalbases|             date|home|\n",
      "+----+-----+-----------+-----------+----------------+----------+-----------------+----+\n",
      "| STL|  1.0|        5.0|        0.0|             5.0|       5.0|2016-04-03T17:00Z|   0|\n",
      "| TOR|  5.0|        1.0|        0.0|             7.0|      11.0|2016-04-03T20:00Z|   0|\n",
      "| NYM|  3.0|        2.0|        0.0|             3.0|       8.0|2016-04-04T00:30Z|   0|\n",
      "|  SF| 12.0|        5.0|        1.0|            10.0|      30.0|2016-04-04T18:10Z|   0|\n",
      "| MIN|  2.0|        5.0|        0.0|            10.0|      10.0|2016-04-04T19:05Z|   0|\n",
      "| SEA|  2.0|        6.0|        0.0|            10.0|      10.0|2016-04-04T20:00Z|   0|\n",
      "| WSH|  4.0|        5.0|        1.0|            11.0|      15.0|2016-04-04T20:10Z|   0|\n",
      "| PHI|  2.0|        3.0|        0.0|             7.0|      10.0|2016-04-04T20:10Z|   0|\n",
      "| LAD| 15.0|        2.0|        0.0|            10.0|      26.0|2016-04-04T23:00Z|   0|\n",
      "| TOR|  5.0|        4.0|        0.0|             9.0|      17.0|2016-04-04T23:10Z|   0|\n",
      "| COL| 10.0|        3.0|        1.0|            13.0|      31.0|2016-04-05T01:40Z|   0|\n",
      "| CHC|  9.0|        1.0|        0.0|             7.0|      17.0|2016-04-05T02:00Z|   0|\n",
      "| CHW|  4.0|        3.0|        0.0|            10.0|      10.0|2016-04-05T02:05Z|   0|\n",
      "| HOU|  5.0|        4.0|        3.0|             8.0|      11.0|2016-04-05T17:00Z|   0|\n",
      "| BOS|  6.0|        3.0|        0.0|            15.0|      18.0|2016-04-05T17:10Z|   0|\n",
      "| NYM|  2.0|        1.0|        2.0|            12.0|       9.0|2016-04-05T20:15Z|   0|\n",
      "| STL|  5.0|        2.0|        0.0|            12.0|      15.0|2016-04-05T23:05Z|   0|\n",
      "| DET|  8.0|        3.0|        0.0|            10.0|      23.0|2016-04-05T23:10Z|   0|\n",
      "| TOR|  2.0|        0.0|        2.0|             9.0|      11.0|2016-04-05T23:10Z|   0|\n",
      "| SEA| 10.0|        5.0|        0.0|            11.0|      26.0|2016-04-06T00:05Z|   0|\n",
      "+----+-----+-----------+-----------+----------------+----------+-----------------+----+\n",
      "only showing top 20 rows\n",
      "\n",
      "root\n",
      " |-- team: string (nullable = true)\n",
      " |-- score: integer (nullable = true)\n",
      " |-- walksissued: integer (nullable = true)\n",
      " |-- stolenbases: integer (nullable = true)\n",
      " |-- strikeoutsthrown: integer (nullable = true)\n",
      " |-- totalbases: integer (nullable = true)\n",
      " |-- date: date (nullable = true)\n",
      " |-- home: integer (nullable = false)\n",
      "\n",
      "+----+-----+-----------+-----------+----------------+----------+----------+----+\n",
      "|team|score|walksissued|stolenbases|strikeoutsthrown|totalbases|      date|home|\n",
      "+----+-----+-----------+-----------+----------------+----------+----------+----+\n",
      "| STL|    1|          5|          0|               5|         5|2016-04-03|   0|\n",
      "| TOR|    5|          1|          0|               7|        11|2016-04-03|   0|\n",
      "| NYM|    3|          2|          0|               3|         8|2016-04-04|   0|\n",
      "|  SF|   12|          5|          1|              10|        30|2016-04-04|   0|\n",
      "| MIN|    2|          5|          0|              10|        10|2016-04-04|   0|\n",
      "| SEA|    2|          6|          0|              10|        10|2016-04-04|   0|\n",
      "| WSH|    4|          5|          1|              11|        15|2016-04-04|   0|\n",
      "| PHI|    2|          3|          0|               7|        10|2016-04-04|   0|\n",
      "| LAD|   15|          2|          0|              10|        26|2016-04-04|   0|\n",
      "| TOR|    5|          4|          0|               9|        17|2016-04-04|   0|\n",
      "+----+-----+-----------+-----------+----------------+----------+----------+----+\n",
      "only showing top 10 rows\n",
      "\n"
     ]
    },
    {
     "data": {
      "text/plain": [
       "25977"
      ]
     },
     "execution_count": 7,
     "metadata": {},
     "output_type": "execute_result"
    }
   ],
   "source": [
    "df_concat = df2.union(df3)\n",
    "df_concat.show()\n",
    "df_final = df_concat.withColumn(\"team\",col(\"team\").cast(StringType())) \\\n",
    "    .withColumn(\"score\",col(\"score\").cast(IntegerType())) \\\n",
    "    .withColumn(\"walksissued\",col(\"walksissued\").cast(IntegerType())) \\\n",
    "    .withColumn(\"stolenbases\",col(\"stolenbases\").cast(IntegerType())) \\\n",
    "    .withColumn(\"strikeoutsthrown\",col(\"strikeoutsthrown\").cast(IntegerType())) \\\n",
    "    .withColumn(\"totalbases\",col(\"totalbases\").cast(IntegerType())) \\\n",
    "    .withColumn(\"home\",col(\"home\").cast(IntegerType())) \\\n",
    "    .withColumn(\"date\",col(\"date\").cast(DateType()))\n",
    "df_final.printSchema()\n",
    "df_final.show(10)\n",
    "df_final.count()"
   ]
  },
  {
   "cell_type": "code",
   "execution_count": 8,
   "id": "2316d649",
   "metadata": {},
   "outputs": [],
   "source": [
    "df_final.write.option(\"header\",True).csv(\"clean_data.csv\")"
   ]
  },
  {
   "cell_type": "code",
   "execution_count": null,
   "id": "10c5a8a5",
   "metadata": {},
   "outputs": [],
   "source": []
  }
 ],
 "metadata": {
  "kernelspec": {
   "display_name": "Python 3",
   "language": "python",
   "name": "python3"
  },
  "language_info": {
   "codemirror_mode": {
    "name": "ipython",
    "version": 3
   },
   "file_extension": ".py",
   "mimetype": "text/x-python",
   "name": "python",
   "nbconvert_exporter": "python",
   "pygments_lexer": "ipython3",
   "version": "3.8.8"
  }
 },
 "nbformat": 4,
 "nbformat_minor": 5
}
