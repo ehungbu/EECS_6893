{
 "cells": [
  {
   "cell_type": "code",
   "execution_count": 1,
   "id": "e008f29a",
   "metadata": {},
   "outputs": [
    {
     "ename": "ImportError",
     "evalue": "cannot import name 'SettingWithCopyWarning' from 'pandas.core.common' (/Users/chenchengyu/opt/anaconda3/lib/python3.8/site-packages/pandas/core/common.py)",
     "output_type": "error",
     "traceback": [
      "\u001b[0;31m---------------------------------------------------------------------------\u001b[0m",
      "\u001b[0;31mImportError\u001b[0m                               Traceback (most recent call last)",
      "\u001b[0;32m<ipython-input-1-1d17fb4a5353>\u001b[0m in \u001b[0;36m<module>\u001b[0;34m\u001b[0m\n\u001b[1;32m      4\u001b[0m \u001b[0;32mimport\u001b[0m \u001b[0mos\u001b[0m\u001b[0;34m\u001b[0m\u001b[0;34m\u001b[0m\u001b[0m\n\u001b[1;32m      5\u001b[0m \u001b[0;32mimport\u001b[0m \u001b[0mwarnings\u001b[0m\u001b[0;34m\u001b[0m\u001b[0;34m\u001b[0m\u001b[0m\n\u001b[0;32m----> 6\u001b[0;31m \u001b[0;32mfrom\u001b[0m \u001b[0mpandas\u001b[0m\u001b[0;34m.\u001b[0m\u001b[0mcore\u001b[0m\u001b[0;34m.\u001b[0m\u001b[0mcommon\u001b[0m \u001b[0;32mimport\u001b[0m \u001b[0mSettingWithCopyWarning\u001b[0m\u001b[0;34m\u001b[0m\u001b[0;34m\u001b[0m\u001b[0m\n\u001b[0m\u001b[1;32m      7\u001b[0m \u001b[0;34m\u001b[0m\u001b[0m\n\u001b[1;32m      8\u001b[0m \u001b[0mwarnings\u001b[0m\u001b[0;34m.\u001b[0m\u001b[0msimplefilter\u001b[0m\u001b[0;34m(\u001b[0m\u001b[0maction\u001b[0m\u001b[0;34m=\u001b[0m\u001b[0;34m\"ignore\"\u001b[0m\u001b[0;34m,\u001b[0m \u001b[0mcategory\u001b[0m\u001b[0;34m=\u001b[0m\u001b[0mSettingWithCopyWarning\u001b[0m\u001b[0;34m)\u001b[0m\u001b[0;34m\u001b[0m\u001b[0;34m\u001b[0m\u001b[0m\n",
      "\u001b[0;31mImportError\u001b[0m: cannot import name 'SettingWithCopyWarning' from 'pandas.core.common' (/Users/chenchengyu/opt/anaconda3/lib/python3.8/site-packages/pandas/core/common.py)"
     ]
    }
   ],
   "source": [
    "import pandas as pd\n",
    "import numpy as np\n",
    "import csv\n",
    "import os\n",
    "import warnings\n",
    "from pandas.core.common import SettingWithCopyWarning\n",
    "\n",
    "warnings.simplefilter(action=\"ignore\", category=SettingWithCopyWarning)\n",
    "HITTER_FILE = 'mlb_data/hittersByGame.csv'\n",
    "PITCHER_FILE = 'mlb_data/pitchersByGame.csv'\n",
    "GAME_FILE = 'mlb_data/games.csv'"
   ]
  },
  {
   "cell_type": "code",
   "execution_count": 2,
   "id": "93a122a9",
   "metadata": {},
   "outputs": [],
   "source": [
    "# mapping between game ID and season\n",
    "map_gameid_season = dict()\n",
    "raw_data_game = pd.read_csv(GAME_FILE)\n",
    "for i in range(len(raw_data_game)):\n",
    "    map_gameid_season[raw_data_game['Game'][i]] = raw_data_game['Date'][i][0:4]"
   ]
  },
  {
   "cell_type": "code",
   "execution_count": 7,
   "id": "1fdcb174",
   "metadata": {},
   "outputs": [
    {
     "name": "stderr",
     "output_type": "stream",
     "text": [
      "<ipython-input-7-e9b9e88e52b3>:3: DtypeWarning: Columns (9,10) have mixed types. Specify dtype option on import or set low_memory=False.\n",
      "  raw_data_pitcher = pd.read_csv(PITCHER_FILE)\n"
     ]
    }
   ],
   "source": [
    "# Accumulate pitcher data over each season\n",
    "pitcher_data = {'2016': dict(), '2017': dict(), '2018': dict(), '2019': dict(), '2020': dict(), '2021': dict()}\n",
    "raw_data_pitcher = pd.read_csv(PITCHER_FILE)\n",
    "for i in range(len(raw_data_pitcher)):\n",
    "    pitcher = raw_data_pitcher['Pitchers'][i]\n",
    "    if pitcher == 'TEAM':\n",
    "        continue\n",
    "    season = map_gameid_season[raw_data_pitcher['Game'][i]]\n",
    "    team = raw_data_pitcher['Team'][i]\n",
    "    if team not in pitcher_data[season]:\n",
    "        pitcher_data[season][team] = dict()\n",
    "    if pitcher not in pitcher_data[season][team]:\n",
    "        pitcher_data[season][team][pitcher] = {'IP': 0, 'H': 0, 'R': 0, 'ER': 0, 'BB': 0, 'K': 0, 'HR': 0}\n",
    "    for cat in pitcher_data[season][team][pitcher]:\n",
    "        pitcher_data[season][team][pitcher][cat] += float(raw_data_pitcher[cat][i])"
   ]
  },
  {
   "cell_type": "code",
   "execution_count": 40,
   "id": "1d047aeb",
   "metadata": {},
   "outputs": [],
   "source": [
    "# Store the data into csv\n",
    "csv_columns = ['Season', 'Teams', 'Pitcher', 'IP', 'H', 'R', 'ER', 'BB', 'K', 'HR', 'ERA']\n",
    "dict_data = list()\n",
    "for season in pitcher_data:\n",
    "    for team in pitcher_data[season]:\n",
    "        for pitcher in pitcher_data[season][team]:\n",
    "            t = dict()\n",
    "            t['Season'] = season\n",
    "            t['Teams'] = team\n",
    "            t['Pitcher'] = pitcher\n",
    "            t['IP'] = int(pitcher_data[season][team][pitcher]['IP'])\n",
    "            t['H'] = int(pitcher_data[season][team][pitcher]['H'])\n",
    "            t['R'] = int(pitcher_data[season][team][pitcher]['R'])\n",
    "            t['ER'] = int(pitcher_data[season][team][pitcher]['ER'])\n",
    "            t['K'] = int(pitcher_data[season][team][pitcher]['K'])\n",
    "            t['HR'] = int(pitcher_data[season][team][pitcher]['HR'])\n",
    "            t['BB'] = int(pitcher_data[season][team][pitcher]['BB'])\n",
    "            if t['IP'] != 0:\n",
    "                t['ERA'] = \"{0:.2f}\".format(9 * t['ER'] / t['IP'])\n",
    "            else:\n",
    "                t['ERA'] = 0\n",
    "            dict_data.append(t)\n",
    "csv_file = \"pitcher_data.csv\"\n",
    "try:\n",
    "    with open(csv_file, 'w') as csvfile:\n",
    "        writer = csv.DictWriter(csvfile, fieldnames=csv_columns)\n",
    "        writer.writeheader()\n",
    "        for d in dict_data:\n",
    "            writer.writerow(d)\n",
    "except IOError:\n",
    "    print(\"I/O error\")"
   ]
  },
  {
   "cell_type": "code",
   "execution_count": 30,
   "id": "c7fcb56c",
   "metadata": {},
   "outputs": [
    {
     "name": "stderr",
     "output_type": "stream",
     "text": [
      "<ipython-input-30-1498af3c546a>:3: DtypeWarning: Columns (2,3,4,5,6,7,8,9,10,11) have mixed types. Specify dtype option on import or set low_memory=False.\n",
      "  raw_data_hitter = pd.read_csv(HITTER_FILE)\n"
     ]
    }
   ],
   "source": [
    "# Accumulate pitcher data over each season\n",
    "hitter_data = {'2016': dict(), '2017': dict(), '2018': dict(), '2019': dict(), '2020': dict(), '2021': dict()}\n",
    "raw_data_hitter = pd.read_csv(HITTER_FILE)\n",
    "for i in range(len(raw_data_hitter)):\n",
    "    hitter = raw_data_hitter['Hitters'][i]\n",
    "    if hitter == 'TEAM' or raw_data_hitter['H-AB'][i] == '-----':\n",
    "        continue\n",
    "    season = map_gameid_season[raw_data_hitter['Game'][i]]\n",
    "    team = raw_data_hitter['Team'][i]\n",
    "    if team not in hitter_data[season]:\n",
    "        hitter_data[season][team] = dict()\n",
    "    if hitter not in hitter_data[season][team]:\n",
    "        hitter_data[season][team][hitter] = {'AB': 0, 'R': 0, 'H': 0, 'RBI': 0, 'BB': 0, 'K': 0, 'SLG': 0}\n",
    "    for cat in hitter_data[season][team][hitter]:\n",
    "        if cat == 'SLG':\n",
    "            if raw_data_hitter['SLG'][i] != '--':\n",
    "                hitter_data[season][team][hitter]['SLG'] += float(raw_data_hitter['SLG'][i]) * float(raw_data_hitter['AB'][i])\n",
    "        else:\n",
    "            hitter_data[season][team][hitter][cat] += float(raw_data_hitter[cat][i])"
   ]
  },
  {
   "cell_type": "code",
   "execution_count": 39,
   "id": "f7cca5d5",
   "metadata": {},
   "outputs": [],
   "source": [
    "# Store the data into csv\n",
    "csv_columns_hitter = ['Season', 'Teams', 'Hitter', 'AB', 'R', 'H', 'RBI', 'BB', 'K', 'SLG', 'AVG', 'OBP']\n",
    "dict_data_hitter = list()\n",
    "for season in hitter_data:\n",
    "    for team in hitter_data[season]:\n",
    "        for hitter in hitter_data[season][team]:\n",
    "            t = dict()\n",
    "            t['Season'] = season\n",
    "            t['Teams'] = team\n",
    "            t['Hitter'] = hitter\n",
    "            t['AB'] = int(hitter_data[season][team][hitter]['AB'])\n",
    "            t['R'] = int(hitter_data[season][team][hitter]['R'])\n",
    "            t['H'] = int(hitter_data[season][team][hitter]['H'])\n",
    "            t['RBI'] = int(hitter_data[season][team][hitter]['RBI'])\n",
    "            t['BB'] = int(hitter_data[season][team][hitter]['BB'])\n",
    "            t['K'] = int(hitter_data[season][team][hitter]['K'])\n",
    "            if hitter_data[season][team][hitter]['AB'] != 0:\n",
    "                t['SLG'] = \"{0:.2f}\".format(hitter_data[season][team][hitter]['SLG'] / hitter_data[season][team][hitter]['AB'])\n",
    "                t['AVG'] = \"{0:.2f}\".format(t['H'] / t['AB'])\n",
    "                t['OBP'] = \"{0:.2f}\".format((t['H'] + t['R']) / (t['AB'] + t['R']))\n",
    "            else:\n",
    "                t['SLG'] = 0\n",
    "                t['AVG'] = 0\n",
    "                t['OBP'] = 0\n",
    "            dict_data_hitter.append(t)\n",
    "csv_file = \"hitter_data.csv\"\n",
    "try:\n",
    "    with open(csv_file, 'w') as csvfile:\n",
    "        writer = csv.DictWriter(csvfile, fieldnames=csv_columns_hitter)\n",
    "        writer.writeheader()\n",
    "        for d in dict_data_hitter:\n",
    "            writer.writerow(d)\n",
    "except IOError:\n",
    "    print(\"I/O error\")"
   ]
  },
  {
   "cell_type": "code",
   "execution_count": 64,
   "id": "7cfea9e0",
   "metadata": {},
   "outputs": [],
   "source": [
    "pitcher_season_best = {'2016': dict(), '2017': dict(), '2018': dict(), '2019': dict(), '2020': dict(), '2021': dict()}\n",
    "dic = ['IP', 'H', 'R', 'ER', 'BB', 'K', 'HR', 'ERA']\n",
    "for season in pitcher_data:\n",
    "    for team in pitcher_data[season]:\n",
    "        for pitcher in pitcher_data[season][team]:\n",
    "            inning = pitcher_data[season][team][pitcher]['IP']\n",
    "            if inning < 50:\n",
    "                continue\n",
    "            for d in dic:\n",
    "                if d not in pitcher_season_best[season]:\n",
    "                    pitcher_season_best[season][d] = list()\n",
    "                if d != 'ERA':\n",
    "                    if d == 'IP':\n",
    "                        pitcher_season_best[season][d].append({'name': pitcher, 'info': [team, pitcher_data[season][team][pitcher][d]]})\n",
    "                    else:\n",
    "                        pitcher_season_best[season][d].append({'name': pitcher, 'info': [team, pitcher_data[season][team][pitcher][d]/inning]})\n",
    "                else:\n",
    "                    pitcher_season_best[season]['ERA'].append({'name': pitcher, 'info': [team, 9 * pitcher_data[season][team][pitcher]['ER'] / pitcher_data[season][team][pitcher]['IP']]})"
   ]
  },
  {
   "cell_type": "code",
   "execution_count": 66,
   "id": "4a35f6ae",
   "metadata": {},
   "outputs": [],
   "source": [
    "for year in pitcher_season_best:\n",
    "    for ind in pitcher_season_best[year]:\n",
    "        if ind == 'IP':\n",
    "            pitcher_season_best[year][ind] = sorted(pitcher_season_best[year][ind], key=lambda d: d['info'][1], reverse = True)\n",
    "        else:\n",
    "            pitcher_season_best[year][ind] = sorted(pitcher_season_best[year][ind], key=lambda d: d['info'][1])\n",
    "        pitcher_season_best[year][ind] = pitcher_season_best[year][ind][0:10]"
   ]
  },
  {
   "cell_type": "code",
   "execution_count": 73,
   "id": "7a99eb06",
   "metadata": {},
   "outputs": [],
   "source": [
    "csv_columns_pitcher_top10 = ['Season', 'Team', 'Pitcher', 'Indicator', 'Value']\n",
    "dict_data_pitcher_top10 = list()\n",
    "csv_file = \"pitcher_top10.csv\"\n",
    "for season in pitcher_season_best:\n",
    "    for cat in pitcher_season_best[season]:\n",
    "        for i in range(10):\n",
    "            t = dict()\n",
    "            t['Season'] = season\n",
    "            t['Team'] = pitcher_season_best[season][cat][i]['info'][0]\n",
    "            t['Value'] = \"{0:.2f}\".format(pitcher_season_best[season][cat][i]['info'][1])\n",
    "            t['Pitcher'] = pitcher_season_best[season][cat][i]['name']\n",
    "            t['Indicator'] = cat\n",
    "            dict_data_pitcher_top10.append(t)\n",
    "try:\n",
    "    with open(csv_file, 'w') as csvfile:\n",
    "        writer = csv.DictWriter(csvfile, fieldnames=csv_columns_pitcher_top10)\n",
    "        writer.writeheader()\n",
    "        for d in dict_data_pitcher_top10:\n",
    "            writer.writerow(d)\n",
    "except IOError:\n",
    "    print(\"I/O error\")"
   ]
  },
  {
   "cell_type": "code",
   "execution_count": 81,
   "id": "494fb0f4",
   "metadata": {},
   "outputs": [],
   "source": [
    "hitter_season_best = {'2016': dict(), '2017': dict(), '2018': dict(), '2019': dict(), '2020': dict(), '2021': dict()}\n",
    "dic = ['AB', 'R', 'H', 'RBI', 'BB', 'K', 'SLG', 'AVG', 'OBP']\n",
    "for season in hitter_data:\n",
    "    for team in hitter_data[season]:\n",
    "        for hitter in hitter_data[season][team]:\n",
    "            ab = hitter_data[season][team][hitter]['AB']\n",
    "            if ab < 50:\n",
    "                continue\n",
    "            for d in dic:\n",
    "                if d not in hitter_season_best[season]:\n",
    "                    hitter_season_best[season][d] = list()\n",
    "                if d == 'AB':\n",
    "                    hitter_season_best[season][d].append({'name': hitter, 'info': [team, hitter_data[season][team][hitter][d]]})\n",
    "                elif d == 'SLG':\n",
    "                    hitter_season_best[season][d].append({'name': hitter, 'info': [team, hitter_data[season][team][hitter]['SLG'] / hitter_data[season][team][hitter]['AB']]})\n",
    "                elif d == 'AVG':\n",
    "                    hitter_season_best[season][d].append({'name': hitter, 'info': [team, hitter_data[season][team][hitter]['H'] / ab]})\n",
    "                elif d == 'OBP':\n",
    "                    hitter_season_best[season][d].append({'name': hitter, 'info': [team, (hitter_data[season][team][hitter]['H'] + hitter_data[season][team][hitter]['R']) / (ab + hitter_data[season][team][hitter]['R'])]})\n",
    "                else:\n",
    "                    hitter_season_best[season][d].append({'name': hitter, 'info': [team, hitter_data[season][team][hitter][d]/ab]})\n"
   ]
  },
  {
   "cell_type": "code",
   "execution_count": 82,
   "id": "aa6acc9b",
   "metadata": {},
   "outputs": [],
   "source": [
    "for year in hitter_season_best:\n",
    "    for ind in hitter_season_best[year]:\n",
    "        if ind != 'K':\n",
    "            hitter_season_best[year][ind] = sorted(hitter_season_best[year][ind], key=lambda d: d['info'][1], reverse = True)\n",
    "        else:\n",
    "            hitter_season_best[year][ind] = sorted(hitter_season_best[year][ind], key=lambda d: d['info'][1])\n",
    "        hitter_season_best[year][ind] = hitter_season_best[year][ind][0:10]"
   ]
  },
  {
   "cell_type": "code",
   "execution_count": 84,
   "id": "da3c0fb7",
   "metadata": {},
   "outputs": [],
   "source": [
    "csv_columns_hitter_top10 = ['Season', 'Team', 'Hitter', 'Indicator', 'Value']\n",
    "dict_data_hitter_top10 = list()\n",
    "csv_file = \"hitter_top10.csv\"\n",
    "for season in hitter_season_best:\n",
    "    for cat in hitter_season_best[season]:\n",
    "        for i in range(10):\n",
    "            t = dict()\n",
    "            t['Season'] = season\n",
    "            t['Team'] = hitter_season_best[season][cat][i]['info'][0]\n",
    "            t['Value'] = \"{0:.2f}\".format(hitter_season_best[season][cat][i]['info'][1])\n",
    "            t['Hitter'] = hitter_season_best[season][cat][i]['name']\n",
    "            t['Indicator'] = cat\n",
    "            dict_data_hitter_top10.append(t)\n",
    "try:\n",
    "    with open(csv_file, 'w') as csvfile:\n",
    "        writer = csv.DictWriter(csvfile, fieldnames=csv_columns_hitter_top10)\n",
    "        writer.writeheader()\n",
    "        for d in dict_data_hitter_top10:\n",
    "            writer.writerow(d)\n",
    "except IOError:\n",
    "    print(\"I/O error\")"
   ]
  },
  {
   "cell_type": "code",
   "execution_count": null,
   "id": "b4be6509",
   "metadata": {},
   "outputs": [],
   "source": []
  }
 ],
 "metadata": {
  "kernelspec": {
   "display_name": "Python 3",
   "language": "python",
   "name": "python3"
  },
  "language_info": {
   "codemirror_mode": {
    "name": "ipython",
    "version": 3
   },
   "file_extension": ".py",
   "mimetype": "text/x-python",
   "name": "python",
   "nbconvert_exporter": "python",
   "pygments_lexer": "ipython3",
   "version": "3.8.8"
  }
 },
 "nbformat": 4,
 "nbformat_minor": 5
}
